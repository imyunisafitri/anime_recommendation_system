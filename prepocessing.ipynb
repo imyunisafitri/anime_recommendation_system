{
 "cells": [
  {
   "cell_type": "code",
   "execution_count": 1,
   "id": "59784802-62aa-4685-b19d-a5e74a867f4e",
   "metadata": {},
   "outputs": [],
   "source": [
    "import pandas as pd\n",
    "import numpy as np\n",
    "import re\n",
    "import nltk\n",
    "from nltk.corpus import stopwords\n",
    "from nltk.stem import PorterStemmer\n",
    "from nltk.stem import WordNetLemmatizer"
   ]
  },
  {
   "cell_type": "code",
   "execution_count": 2,
   "id": "1fb753d2-2a64-405c-b00f-3b48010fa05e",
   "metadata": {},
   "outputs": [],
   "source": [
    "df_anime = pd.read_csv('../dataset/anime-dataset-2023.csv')\n",
    "df_ratings = pd.read_csv('../dataset/users-score-2023.csv') "
   ]
  },
  {
   "cell_type": "code",
   "execution_count": 5,
   "id": "dfb0bd4c-91fb-4420-8ccf-8d0e5712b45b",
   "metadata": {},
   "outputs": [
    {
     "data": {
      "text/html": [
       "<div>\n",
       "<style scoped>\n",
       "    .dataframe tbody tr th:only-of-type {\n",
       "        vertical-align: middle;\n",
       "    }\n",
       "\n",
       "    .dataframe tbody tr th {\n",
       "        vertical-align: top;\n",
       "    }\n",
       "\n",
       "    .dataframe thead th {\n",
       "        text-align: right;\n",
       "    }\n",
       "</style>\n",
       "<table border=\"1\" class=\"dataframe\">\n",
       "  <thead>\n",
       "    <tr style=\"text-align: right;\">\n",
       "      <th></th>\n",
       "      <th>anime_id</th>\n",
       "      <th>Name</th>\n",
       "      <th>English name</th>\n",
       "      <th>Other name</th>\n",
       "      <th>Score</th>\n",
       "      <th>Genres</th>\n",
       "      <th>Synopsis</th>\n",
       "      <th>Type</th>\n",
       "      <th>Episodes</th>\n",
       "      <th>Aired</th>\n",
       "      <th>Premiered</th>\n",
       "      <th>Status</th>\n",
       "      <th>Producers</th>\n",
       "      <th>Licensors</th>\n",
       "      <th>Studios</th>\n",
       "      <th>Source</th>\n",
       "      <th>Duration</th>\n",
       "      <th>Rating</th>\n",
       "      <th>Rank</th>\n",
       "      <th>Popularity</th>\n",
       "      <th>Favorites</th>\n",
       "      <th>Scored By</th>\n",
       "      <th>Members</th>\n",
       "      <th>Image URL</th>\n",
       "    </tr>\n",
       "  </thead>\n",
       "  <tbody>\n",
       "    <tr>\n",
       "      <th>0</th>\n",
       "      <td>1</td>\n",
       "      <td>Cowboy Bebop</td>\n",
       "      <td>Cowboy Bebop</td>\n",
       "      <td>カウボーイビバップ</td>\n",
       "      <td>8.75</td>\n",
       "      <td>Action, Award Winning, Sci-Fi</td>\n",
       "      <td>Crime is timeless. By the year 2071, humanity ...</td>\n",
       "      <td>TV</td>\n",
       "      <td>26.0</td>\n",
       "      <td>Apr 3, 1998 to Apr 24, 1999</td>\n",
       "      <td>spring 1998</td>\n",
       "      <td>Finished Airing</td>\n",
       "      <td>Bandai Visual</td>\n",
       "      <td>Funimation, Bandai Entertainment</td>\n",
       "      <td>Sunrise</td>\n",
       "      <td>Original</td>\n",
       "      <td>24 min per ep</td>\n",
       "      <td>R - 17+ (violence &amp; profanity)</td>\n",
       "      <td>41.0</td>\n",
       "      <td>43</td>\n",
       "      <td>78525</td>\n",
       "      <td>914193.0</td>\n",
       "      <td>1771505</td>\n",
       "      <td>https://cdn.myanimelist.net/images/anime/4/196...</td>\n",
       "    </tr>\n",
       "    <tr>\n",
       "      <th>1</th>\n",
       "      <td>5</td>\n",
       "      <td>Cowboy Bebop: Tengoku no Tobira</td>\n",
       "      <td>Cowboy Bebop: The Movie</td>\n",
       "      <td>カウボーイビバップ 天国の扉</td>\n",
       "      <td>8.38</td>\n",
       "      <td>Action, Sci-Fi</td>\n",
       "      <td>Another day, another bounty—such is the life o...</td>\n",
       "      <td>Movie</td>\n",
       "      <td>1.0</td>\n",
       "      <td>Sep 1, 2001</td>\n",
       "      <td>UNKNOWN</td>\n",
       "      <td>Finished Airing</td>\n",
       "      <td>Sunrise, Bandai Visual</td>\n",
       "      <td>Sony Pictures Entertainment</td>\n",
       "      <td>Bones</td>\n",
       "      <td>Original</td>\n",
       "      <td>1 hr 55 min</td>\n",
       "      <td>R - 17+ (violence &amp; profanity)</td>\n",
       "      <td>189.0</td>\n",
       "      <td>602</td>\n",
       "      <td>1448</td>\n",
       "      <td>206248.0</td>\n",
       "      <td>360978</td>\n",
       "      <td>https://cdn.myanimelist.net/images/anime/1439/...</td>\n",
       "    </tr>\n",
       "    <tr>\n",
       "      <th>2</th>\n",
       "      <td>6</td>\n",
       "      <td>Trigun</td>\n",
       "      <td>Trigun</td>\n",
       "      <td>トライガン</td>\n",
       "      <td>8.22</td>\n",
       "      <td>Action, Adventure, Sci-Fi</td>\n",
       "      <td>Vash the Stampede is the man with a $$60,000,0...</td>\n",
       "      <td>TV</td>\n",
       "      <td>26.0</td>\n",
       "      <td>Apr 1, 1998 to Sep 30, 1998</td>\n",
       "      <td>spring 1998</td>\n",
       "      <td>Finished Airing</td>\n",
       "      <td>Victor Entertainment</td>\n",
       "      <td>Funimation, Geneon Entertainment USA</td>\n",
       "      <td>Madhouse</td>\n",
       "      <td>Manga</td>\n",
       "      <td>24 min per ep</td>\n",
       "      <td>PG-13 - Teens 13 or older</td>\n",
       "      <td>328.0</td>\n",
       "      <td>246</td>\n",
       "      <td>15035</td>\n",
       "      <td>356739.0</td>\n",
       "      <td>727252</td>\n",
       "      <td>https://cdn.myanimelist.net/images/anime/7/203...</td>\n",
       "    </tr>\n",
       "  </tbody>\n",
       "</table>\n",
       "</div>"
      ],
      "text/plain": [
       "   anime_id                             Name             English name  \\\n",
       "0         1                     Cowboy Bebop             Cowboy Bebop   \n",
       "1         5  Cowboy Bebop: Tengoku no Tobira  Cowboy Bebop: The Movie   \n",
       "2         6                           Trigun                   Trigun   \n",
       "\n",
       "       Other name Score                         Genres  \\\n",
       "0       カウボーイビバップ  8.75  Action, Award Winning, Sci-Fi   \n",
       "1  カウボーイビバップ 天国の扉  8.38                 Action, Sci-Fi   \n",
       "2           トライガン  8.22      Action, Adventure, Sci-Fi   \n",
       "\n",
       "                                            Synopsis   Type Episodes  \\\n",
       "0  Crime is timeless. By the year 2071, humanity ...     TV     26.0   \n",
       "1  Another day, another bounty—such is the life o...  Movie      1.0   \n",
       "2  Vash the Stampede is the man with a $$60,000,0...     TV     26.0   \n",
       "\n",
       "                         Aired    Premiered           Status  \\\n",
       "0  Apr 3, 1998 to Apr 24, 1999  spring 1998  Finished Airing   \n",
       "1                  Sep 1, 2001      UNKNOWN  Finished Airing   \n",
       "2  Apr 1, 1998 to Sep 30, 1998  spring 1998  Finished Airing   \n",
       "\n",
       "                Producers                             Licensors   Studios  \\\n",
       "0           Bandai Visual      Funimation, Bandai Entertainment   Sunrise   \n",
       "1  Sunrise, Bandai Visual           Sony Pictures Entertainment     Bones   \n",
       "2    Victor Entertainment  Funimation, Geneon Entertainment USA  Madhouse   \n",
       "\n",
       "     Source       Duration                          Rating   Rank  Popularity  \\\n",
       "0  Original  24 min per ep  R - 17+ (violence & profanity)   41.0          43   \n",
       "1  Original    1 hr 55 min  R - 17+ (violence & profanity)  189.0         602   \n",
       "2     Manga  24 min per ep       PG-13 - Teens 13 or older  328.0         246   \n",
       "\n",
       "   Favorites Scored By  Members  \\\n",
       "0      78525  914193.0  1771505   \n",
       "1       1448  206248.0   360978   \n",
       "2      15035  356739.0   727252   \n",
       "\n",
       "                                           Image URL  \n",
       "0  https://cdn.myanimelist.net/images/anime/4/196...  \n",
       "1  https://cdn.myanimelist.net/images/anime/1439/...  \n",
       "2  https://cdn.myanimelist.net/images/anime/7/203...  "
      ]
     },
     "execution_count": 5,
     "metadata": {},
     "output_type": "execute_result"
    }
   ],
   "source": [
    "# Atur Pandas untuk menampilkan semua kolom\n",
    "pd.set_option('display.max_columns', None)\n",
    "\n",
    "# Lihat 3 baris pertama dari DataFrame\n",
    "df_anime.head(3)\n"
   ]
  },
  {
   "cell_type": "code",
   "execution_count": 9,
   "id": "57f8ae6a-1af5-41a1-8fcd-4813dfa3dc24",
   "metadata": {},
   "outputs": [
    {
     "data": {
      "text/html": [
       "<div>\n",
       "<style scoped>\n",
       "    .dataframe tbody tr th:only-of-type {\n",
       "        vertical-align: middle;\n",
       "    }\n",
       "\n",
       "    .dataframe tbody tr th {\n",
       "        vertical-align: top;\n",
       "    }\n",
       "\n",
       "    .dataframe thead th {\n",
       "        text-align: right;\n",
       "    }\n",
       "</style>\n",
       "<table border=\"1\" class=\"dataframe\">\n",
       "  <thead>\n",
       "    <tr style=\"text-align: right;\">\n",
       "      <th></th>\n",
       "      <th>user_id</th>\n",
       "      <th>Username</th>\n",
       "      <th>anime_id</th>\n",
       "      <th>Anime Title</th>\n",
       "      <th>rating</th>\n",
       "    </tr>\n",
       "  </thead>\n",
       "  <tbody>\n",
       "    <tr>\n",
       "      <th>0</th>\n",
       "      <td>1</td>\n",
       "      <td>Xinil</td>\n",
       "      <td>21</td>\n",
       "      <td>One Piece</td>\n",
       "      <td>9</td>\n",
       "    </tr>\n",
       "    <tr>\n",
       "      <th>1</th>\n",
       "      <td>1</td>\n",
       "      <td>Xinil</td>\n",
       "      <td>48</td>\n",
       "      <td>.hack//Sign</td>\n",
       "      <td>7</td>\n",
       "    </tr>\n",
       "    <tr>\n",
       "      <th>2</th>\n",
       "      <td>...</td>\n",
       "      <td>...</td>\n",
       "      <td>...</td>\n",
       "      <td>...</td>\n",
       "      <td>...</td>\n",
       "    </tr>\n",
       "    <tr>\n",
       "      <th>3</th>\n",
       "      <td>1291097</td>\n",
       "      <td>JuunanaSai</td>\n",
       "      <td>226</td>\n",
       "      <td>Elfen Lied</td>\n",
       "      <td>10</td>\n",
       "    </tr>\n",
       "    <tr>\n",
       "      <th>4</th>\n",
       "      <td>1291097</td>\n",
       "      <td>JuunanaSai</td>\n",
       "      <td>8425</td>\n",
       "      <td>Gosick</td>\n",
       "      <td>10</td>\n",
       "    </tr>\n",
       "  </tbody>\n",
       "</table>\n",
       "</div>"
      ],
      "text/plain": [
       "   user_id    Username anime_id  Anime Title rating\n",
       "0        1       Xinil       21    One Piece      9\n",
       "1        1       Xinil       48  .hack//Sign      7\n",
       "2      ...         ...      ...          ...    ...\n",
       "3  1291097  JuunanaSai      226   Elfen Lied     10\n",
       "4  1291097  JuunanaSai     8425       Gosick     10"
      ]
     },
     "execution_count": 9,
     "metadata": {},
     "output_type": "execute_result"
    }
   ],
   "source": [
    "\n",
    "df_head = df_ratings.head(2)\n",
    "df_tail = df_ratings.tail(2)\n",
    "\n",
    "# Buat DataFrame dengan \"...\" sebagai placeholder\n",
    "ellipsis = pd.DataFrame([['...'] * len(df_ratings.columns)], columns=df_ratings.columns)\n",
    "\n",
    "# Gabungkan df_head, ellipsis, dan df_tail\n",
    "df_combined = pd.concat([df_head, ellipsis, df_tail], ignore_index=True)\n",
    "\n",
    "# Tampilkan hasilnya\n",
    "df_combined.head(10)"
   ]
  },
  {
   "cell_type": "code",
   "execution_count": 4,
   "id": "96c3b8fd-fb7f-4289-a8ec-c71dff10004d",
   "metadata": {},
   "outputs": [
    {
     "data": {
      "text/html": [
       "<div>\n",
       "<style scoped>\n",
       "    .dataframe tbody tr th:only-of-type {\n",
       "        vertical-align: middle;\n",
       "    }\n",
       "\n",
       "    .dataframe tbody tr th {\n",
       "        vertical-align: top;\n",
       "    }\n",
       "\n",
       "    .dataframe thead th {\n",
       "        text-align: right;\n",
       "    }\n",
       "</style>\n",
       "<table border=\"1\" class=\"dataframe\">\n",
       "  <thead>\n",
       "    <tr style=\"text-align: right;\">\n",
       "      <th></th>\n",
       "      <th>user_id</th>\n",
       "      <th>Username</th>\n",
       "      <th>anime_id</th>\n",
       "      <th>Anime Title</th>\n",
       "      <th>rating</th>\n",
       "    </tr>\n",
       "  </thead>\n",
       "  <tbody>\n",
       "    <tr>\n",
       "      <th>0</th>\n",
       "      <td>1</td>\n",
       "      <td>Xinil</td>\n",
       "      <td>21</td>\n",
       "      <td>One Piece</td>\n",
       "      <td>9</td>\n",
       "    </tr>\n",
       "    <tr>\n",
       "      <th>1</th>\n",
       "      <td>1</td>\n",
       "      <td>Xinil</td>\n",
       "      <td>48</td>\n",
       "      <td>.hack//Sign</td>\n",
       "      <td>7</td>\n",
       "    </tr>\n",
       "    <tr>\n",
       "      <th>2</th>\n",
       "      <td>1</td>\n",
       "      <td>Xinil</td>\n",
       "      <td>320</td>\n",
       "      <td>A Kite</td>\n",
       "      <td>5</td>\n",
       "    </tr>\n",
       "    <tr>\n",
       "      <th>3</th>\n",
       "      <td>1</td>\n",
       "      <td>Xinil</td>\n",
       "      <td>49</td>\n",
       "      <td>Aa! Megami-sama!</td>\n",
       "      <td>8</td>\n",
       "    </tr>\n",
       "    <tr>\n",
       "      <th>4</th>\n",
       "      <td>1</td>\n",
       "      <td>Xinil</td>\n",
       "      <td>304</td>\n",
       "      <td>Aa! Megami-sama! Movie</td>\n",
       "      <td>8</td>\n",
       "    </tr>\n",
       "  </tbody>\n",
       "</table>\n",
       "</div>"
      ],
      "text/plain": [
       "   user_id Username  anime_id             Anime Title  rating\n",
       "0        1    Xinil        21               One Piece       9\n",
       "1        1    Xinil        48             .hack//Sign       7\n",
       "2        1    Xinil       320                  A Kite       5\n",
       "3        1    Xinil        49        Aa! Megami-sama!       8\n",
       "4        1    Xinil       304  Aa! Megami-sama! Movie       8"
      ]
     },
     "execution_count": 4,
     "metadata": {},
     "output_type": "execute_result"
    }
   ],
   "source": [
    "df_ratings.head()"
   ]
  },
  {
   "cell_type": "markdown",
   "id": "28423f52-a2ea-42ef-88a9-52dd80b9835c",
   "metadata": {},
   "source": [
    "### prepocessing dataset anime"
   ]
  },
  {
   "cell_type": "code",
   "execution_count": 5,
   "id": "082fed37-25d2-499f-82ac-5d152af8d93f",
   "metadata": {},
   "outputs": [
    {
     "name": "stderr",
     "output_type": "stream",
     "text": [
      "<>:9: SyntaxWarning: invalid escape sequence '\\W'\n",
      "<>:10: SyntaxWarning: invalid escape sequence '\\d'\n",
      "<>:9: SyntaxWarning: invalid escape sequence '\\W'\n",
      "<>:10: SyntaxWarning: invalid escape sequence '\\d'\n",
      "C:\\Users\\User\\AppData\\Local\\Temp\\ipykernel_15720\\2324586097.py:9: SyntaxWarning: invalid escape sequence '\\W'\n",
      "  text = re.sub('\\W+', ' ', text)\n",
      "C:\\Users\\User\\AppData\\Local\\Temp\\ipykernel_15720\\2324586097.py:10: SyntaxWarning: invalid escape sequence '\\d'\n",
      "  text = re.sub('\\d+', ' ', text)\n"
     ]
    }
   ],
   "source": [
    "# Preprocess anime data\n",
    "kolom_tetap = ['anime_id','Name', 'English name','Studios','Genres', 'Image URL']\n",
    "kolom_hapus = [kolom for kolom in df_anime.columns if kolom not in kolom_tetap]\n",
    "df_anime = df_anime.drop(kolom_hapus, axis=1)\n",
    "df_anime['content'] = df_anime['Name'].fillna('') + ' ' + df_anime['Studios'].fillna('') + ' ' + df_anime['Genres'].fillna('')\n",
    "\n",
    "def prep(text):\n",
    "    text = text.lower()\n",
    "    text = re.sub('\\W+', ' ', text)\n",
    "    text = re.sub('\\d+', ' ', text)\n",
    "    words = text.split()\n",
    "    stopwords_list = set(stopwords.words('english'))\n",
    "    clean_words = [word for word in words if (word not in stopwords_list) and len(word) > 2]\n",
    "    porter = PorterStemmer()\n",
    "    clean_words = [porter.stem(word) for word in clean_words]\n",
    "    return clean_words\n",
    "\n",
    "df_anime['content_prep'] = df_anime['content'].apply(prep)"
   ]
  },
  {
   "cell_type": "code",
   "execution_count": 6,
   "id": "3945bfe6-d5b4-4eb6-b950-33199522267a",
   "metadata": {},
   "outputs": [
    {
     "data": {
      "text/html": [
       "<div>\n",
       "<style scoped>\n",
       "    .dataframe tbody tr th:only-of-type {\n",
       "        vertical-align: middle;\n",
       "    }\n",
       "\n",
       "    .dataframe tbody tr th {\n",
       "        vertical-align: top;\n",
       "    }\n",
       "\n",
       "    .dataframe thead th {\n",
       "        text-align: right;\n",
       "    }\n",
       "</style>\n",
       "<table border=\"1\" class=\"dataframe\">\n",
       "  <thead>\n",
       "    <tr style=\"text-align: right;\">\n",
       "      <th></th>\n",
       "      <th>anime_id</th>\n",
       "      <th>Name</th>\n",
       "      <th>English name</th>\n",
       "      <th>Genres</th>\n",
       "      <th>Studios</th>\n",
       "      <th>Image URL</th>\n",
       "      <th>content</th>\n",
       "      <th>content_prep</th>\n",
       "    </tr>\n",
       "  </thead>\n",
       "  <tbody>\n",
       "    <tr>\n",
       "      <th>0</th>\n",
       "      <td>1</td>\n",
       "      <td>Cowboy Bebop</td>\n",
       "      <td>Cowboy Bebop</td>\n",
       "      <td>Action, Award Winning, Sci-Fi</td>\n",
       "      <td>Sunrise</td>\n",
       "      <td>https://cdn.myanimelist.net/images/anime/4/196...</td>\n",
       "      <td>Cowboy Bebop Sunrise Action, Award Winning, Sc...</td>\n",
       "      <td>[cowboy, bebop, sunris, action, award, win, sci]</td>\n",
       "    </tr>\n",
       "    <tr>\n",
       "      <th>1</th>\n",
       "      <td>5</td>\n",
       "      <td>Cowboy Bebop: Tengoku no Tobira</td>\n",
       "      <td>Cowboy Bebop: The Movie</td>\n",
       "      <td>Action, Sci-Fi</td>\n",
       "      <td>Bones</td>\n",
       "      <td>https://cdn.myanimelist.net/images/anime/1439/...</td>\n",
       "      <td>Cowboy Bebop: Tengoku no Tobira Bones Action, ...</td>\n",
       "      <td>[cowboy, bebop, tengoku, tobira, bone, action,...</td>\n",
       "    </tr>\n",
       "    <tr>\n",
       "      <th>2</th>\n",
       "      <td>6</td>\n",
       "      <td>Trigun</td>\n",
       "      <td>Trigun</td>\n",
       "      <td>Action, Adventure, Sci-Fi</td>\n",
       "      <td>Madhouse</td>\n",
       "      <td>https://cdn.myanimelist.net/images/anime/7/203...</td>\n",
       "      <td>Trigun Madhouse Action, Adventure, Sci-Fi</td>\n",
       "      <td>[trigun, madhous, action, adventur, sci]</td>\n",
       "    </tr>\n",
       "  </tbody>\n",
       "</table>\n",
       "</div>"
      ],
      "text/plain": [
       "   anime_id                             Name             English name  \\\n",
       "0         1                     Cowboy Bebop             Cowboy Bebop   \n",
       "1         5  Cowboy Bebop: Tengoku no Tobira  Cowboy Bebop: The Movie   \n",
       "2         6                           Trigun                   Trigun   \n",
       "\n",
       "                          Genres   Studios  \\\n",
       "0  Action, Award Winning, Sci-Fi   Sunrise   \n",
       "1                 Action, Sci-Fi     Bones   \n",
       "2      Action, Adventure, Sci-Fi  Madhouse   \n",
       "\n",
       "                                           Image URL  \\\n",
       "0  https://cdn.myanimelist.net/images/anime/4/196...   \n",
       "1  https://cdn.myanimelist.net/images/anime/1439/...   \n",
       "2  https://cdn.myanimelist.net/images/anime/7/203...   \n",
       "\n",
       "                                             content  \\\n",
       "0  Cowboy Bebop Sunrise Action, Award Winning, Sc...   \n",
       "1  Cowboy Bebop: Tengoku no Tobira Bones Action, ...   \n",
       "2          Trigun Madhouse Action, Adventure, Sci-Fi   \n",
       "\n",
       "                                        content_prep  \n",
       "0   [cowboy, bebop, sunris, action, award, win, sci]  \n",
       "1  [cowboy, bebop, tengoku, tobira, bone, action,...  \n",
       "2           [trigun, madhous, action, adventur, sci]  "
      ]
     },
     "execution_count": 6,
     "metadata": {},
     "output_type": "execute_result"
    }
   ],
   "source": [
    "df_anime.head(3)"
   ]
  },
  {
   "cell_type": "code",
   "execution_count": 7,
   "id": "51029afb-14b4-4828-9d89-9395e402ff06",
   "metadata": {},
   "outputs": [
    {
     "name": "stdout",
     "output_type": "stream",
     "text": [
      "Total jumlah anime dalam dataset: 24905\n"
     ]
    }
   ],
   "source": [
    "total_anime = df_anime.shape[0]\n",
    "\n",
    "print(f\"Total jumlah anime dalam dataset: {total_anime}\")"
   ]
  },
  {
   "cell_type": "code",
   "execution_count": 8,
   "id": "e13b523b-c6e6-4ef6-8c6a-2ad06a5a60a4",
   "metadata": {},
   "outputs": [
    {
     "data": {
      "text/plain": [
       "'Cowboy Bebop: Tengoku no Tobira Bones Action, Sci-Fi'"
      ]
     },
     "execution_count": 8,
     "metadata": {},
     "output_type": "execute_result"
    }
   ],
   "source": [
    "df_anime.content[1]"
   ]
  },
  {
   "cell_type": "code",
   "execution_count": 9,
   "id": "e5f65b81-c41a-49d1-bb15-5d2175621dfa",
   "metadata": {},
   "outputs": [],
   "source": [
    "# hapus anime yang mengandung genre/kata tertentu\n",
    "hapus_anime_genre_tertentu = ['UNKNOWN', 'Girls Love', 'Erotica', 'Boys Love', 'Ecchi', 'Hentai']\n",
    "\n",
    "# fungsi memeriksa anime yang mengandung unwanted text\n",
    "def contains_unwanted_genre(text):\n",
    "    for genre in hapus_anime_genre_tertentu:\n",
    "        if genre in text:\n",
    "            return True\n",
    "    return False\n",
    "\n",
    "# Fmemfilter anime dengan kata tertentu\n",
    "df_filtered_anime = df_anime[~df_anime['content'].apply(contains_unwanted_genre)]\n"
   ]
  },
  {
   "cell_type": "code",
   "execution_count": 10,
   "id": "e106e7a6-5bd2-4310-b465-8af0e354c55c",
   "metadata": {},
   "outputs": [
    {
     "data": {
      "text/html": [
       "<div>\n",
       "<style scoped>\n",
       "    .dataframe tbody tr th:only-of-type {\n",
       "        vertical-align: middle;\n",
       "    }\n",
       "\n",
       "    .dataframe tbody tr th {\n",
       "        vertical-align: top;\n",
       "    }\n",
       "\n",
       "    .dataframe thead th {\n",
       "        text-align: right;\n",
       "    }\n",
       "</style>\n",
       "<table border=\"1\" class=\"dataframe\">\n",
       "  <thead>\n",
       "    <tr style=\"text-align: right;\">\n",
       "      <th></th>\n",
       "      <th>anime_id</th>\n",
       "      <th>Name</th>\n",
       "      <th>English name</th>\n",
       "      <th>Genres</th>\n",
       "      <th>Studios</th>\n",
       "      <th>Image URL</th>\n",
       "      <th>content</th>\n",
       "      <th>content_prep</th>\n",
       "    </tr>\n",
       "  </thead>\n",
       "  <tbody>\n",
       "    <tr>\n",
       "      <th>0</th>\n",
       "      <td>1</td>\n",
       "      <td>Cowboy Bebop</td>\n",
       "      <td>Cowboy Bebop</td>\n",
       "      <td>Action, Award Winning, Sci-Fi</td>\n",
       "      <td>Sunrise</td>\n",
       "      <td>https://cdn.myanimelist.net/images/anime/4/196...</td>\n",
       "      <td>Cowboy Bebop Sunrise Action, Award Winning, Sc...</td>\n",
       "      <td>[cowboy, bebop, sunris, action, award, win, sci]</td>\n",
       "    </tr>\n",
       "    <tr>\n",
       "      <th>1</th>\n",
       "      <td>5</td>\n",
       "      <td>Cowboy Bebop: Tengoku no Tobira</td>\n",
       "      <td>Cowboy Bebop: The Movie</td>\n",
       "      <td>Action, Sci-Fi</td>\n",
       "      <td>Bones</td>\n",
       "      <td>https://cdn.myanimelist.net/images/anime/1439/...</td>\n",
       "      <td>Cowboy Bebop: Tengoku no Tobira Bones Action, ...</td>\n",
       "      <td>[cowboy, bebop, tengoku, tobira, bone, action,...</td>\n",
       "    </tr>\n",
       "    <tr>\n",
       "      <th>2</th>\n",
       "      <td>6</td>\n",
       "      <td>Trigun</td>\n",
       "      <td>Trigun</td>\n",
       "      <td>Action, Adventure, Sci-Fi</td>\n",
       "      <td>Madhouse</td>\n",
       "      <td>https://cdn.myanimelist.net/images/anime/7/203...</td>\n",
       "      <td>Trigun Madhouse Action, Adventure, Sci-Fi</td>\n",
       "      <td>[trigun, madhous, action, adventur, sci]</td>\n",
       "    </tr>\n",
       "  </tbody>\n",
       "</table>\n",
       "</div>"
      ],
      "text/plain": [
       "   anime_id                             Name             English name  \\\n",
       "0         1                     Cowboy Bebop             Cowboy Bebop   \n",
       "1         5  Cowboy Bebop: Tengoku no Tobira  Cowboy Bebop: The Movie   \n",
       "2         6                           Trigun                   Trigun   \n",
       "\n",
       "                          Genres   Studios  \\\n",
       "0  Action, Award Winning, Sci-Fi   Sunrise   \n",
       "1                 Action, Sci-Fi     Bones   \n",
       "2      Action, Adventure, Sci-Fi  Madhouse   \n",
       "\n",
       "                                           Image URL  \\\n",
       "0  https://cdn.myanimelist.net/images/anime/4/196...   \n",
       "1  https://cdn.myanimelist.net/images/anime/1439/...   \n",
       "2  https://cdn.myanimelist.net/images/anime/7/203...   \n",
       "\n",
       "                                             content  \\\n",
       "0  Cowboy Bebop Sunrise Action, Award Winning, Sc...   \n",
       "1  Cowboy Bebop: Tengoku no Tobira Bones Action, ...   \n",
       "2          Trigun Madhouse Action, Adventure, Sci-Fi   \n",
       "\n",
       "                                        content_prep  \n",
       "0   [cowboy, bebop, sunris, action, award, win, sci]  \n",
       "1  [cowboy, bebop, tengoku, tobira, bone, action,...  \n",
       "2           [trigun, madhous, action, adventur, sci]  "
      ]
     },
     "execution_count": 10,
     "metadata": {},
     "output_type": "execute_result"
    }
   ],
   "source": [
    "df_filtered_anime.head(3)"
   ]
  },
  {
   "cell_type": "code",
   "execution_count": 11,
   "id": "747a8832-9038-4a50-868f-7f4ce7b58277",
   "metadata": {},
   "outputs": [
    {
     "name": "stdout",
     "output_type": "stream",
     "text": [
      "Total jumlah anime dalam dataset: 10934\n"
     ]
    }
   ],
   "source": [
    "total_anime = df_filtered_anime.shape[0]\n",
    "\n",
    "print(f\"Total jumlah anime dalam dataset: {total_anime}\")"
   ]
  },
  {
   "cell_type": "code",
   "execution_count": 17,
   "id": "87f3bda5-9cb7-4b9a-9967-f68196ff4cd4",
   "metadata": {},
   "outputs": [],
   "source": [
    "# Simpan dataset hasil prepocessing\n",
    "df_filtered_anime.to_csv('../dataset/df_anime_rated3k.csv', index=False)"
   ]
  },
  {
   "cell_type": "markdown",
   "id": "0ea5698f-e12b-4cb4-805c-97626506cbd5",
   "metadata": {},
   "source": [
    "### prepocessing dataset rating"
   ]
  },
  {
   "cell_type": "code",
   "execution_count": 4,
   "id": "c4463475-c819-4a67-9c83-a424f98664bb",
   "metadata": {},
   "outputs": [
    {
     "name": "stdout",
     "output_type": "stream",
     "text": [
      "Total jumlah rating dataset: 24325191\n"
     ]
    }
   ],
   "source": [
    "total_rating= df_ratings.shape[0]\n",
    "\n",
    "print(f\"Total jumlah rating dataset: {total_rating}\")"
   ]
  },
  {
   "cell_type": "code",
   "execution_count": 5,
   "id": "b680ad37-349b-4ba0-ae95-39072e85c8a7",
   "metadata": {},
   "outputs": [
    {
     "name": "stdout",
     "output_type": "stream",
     "text": [
      "Jumlah pengguna unik dalam dataset: 270033\n"
     ]
    }
   ],
   "source": [
    "# Menghitung jumlah user_id yang unik\n",
    "unique_users = df_ratings['user_id'].nunique()\n",
    "\n",
    "print(f\"Jumlah pengguna unik dalam dataset: {unique_users}\")"
   ]
  },
  {
   "cell_type": "code",
   "execution_count": 6,
   "id": "00a8facc-c55d-4c15-b0be-492b94b46b1f",
   "metadata": {},
   "outputs": [
    {
     "name": "stdout",
     "output_type": "stream",
     "text": [
      "Shape of filtered_ratings: (424827, 5)\n",
      "Number of unique users in filtered_ratings: 3000\n"
     ]
    }
   ],
   "source": [
    "# Urutkan data berdasarkan user_id dalam urutan menaik\n",
    "df_sorted = df_ratings.sort_values(by='user_id', ascending=True)\n",
    "\n",
    "# Memilih 3000 pengguna unik pertama\n",
    "unique_users = df_sorted['user_id'].drop_duplicates().head(3000)\n",
    "\n",
    "# Filter data rating untuk hanya pengguna yang dipilih\n",
    "filtered_ratings = df_sorted[df_sorted['user_id'].isin(unique_users)]\n",
    "\n",
    "\n",
    "# Mengecek hasil\n",
    "print(f\"Shape of filtered_ratings: {filtered_ratings.shape}\")\n",
    "print(f\"Number of unique users in filtered_ratings: {filtered_ratings['user_id'].nunique()}\")"
   ]
  },
  {
   "cell_type": "code",
   "execution_count": 7,
   "id": "72362869-4b7a-4185-a4a4-f4d596f9d0f1",
   "metadata": {},
   "outputs": [
    {
     "name": "stdout",
     "output_type": "stream",
     "text": [
      "ukran dataset users setelah prepocessing: (424827, 5)\n"
     ]
    }
   ],
   "source": [
    "print(f\"ukran dataset users setelah prepocessing: {filtered_ratings.shape}\")"
   ]
  },
  {
   "cell_type": "code",
   "execution_count": 8,
   "id": "78977355-eaa0-42ef-ba8b-3c517ca71d27",
   "metadata": {},
   "outputs": [
    {
     "data": {
      "text/html": [
       "<div>\n",
       "<style scoped>\n",
       "    .dataframe tbody tr th:only-of-type {\n",
       "        vertical-align: middle;\n",
       "    }\n",
       "\n",
       "    .dataframe tbody tr th {\n",
       "        vertical-align: top;\n",
       "    }\n",
       "\n",
       "    .dataframe thead th {\n",
       "        text-align: right;\n",
       "    }\n",
       "</style>\n",
       "<table border=\"1\" class=\"dataframe\">\n",
       "  <thead>\n",
       "    <tr style=\"text-align: right;\">\n",
       "      <th></th>\n",
       "      <th>user_id</th>\n",
       "      <th>Username</th>\n",
       "      <th>anime_id</th>\n",
       "      <th>Anime Title</th>\n",
       "      <th>rating</th>\n",
       "    </tr>\n",
       "  </thead>\n",
       "  <tbody>\n",
       "    <tr>\n",
       "      <th>0</th>\n",
       "      <td>1</td>\n",
       "      <td>Xinil</td>\n",
       "      <td>21</td>\n",
       "      <td>One Piece</td>\n",
       "      <td>9</td>\n",
       "    </tr>\n",
       "    <tr>\n",
       "      <th>166</th>\n",
       "      <td>1</td>\n",
       "      <td>Xinil</td>\n",
       "      <td>322</td>\n",
       "      <td>Paradise Kiss</td>\n",
       "      <td>8</td>\n",
       "    </tr>\n",
       "    <tr>\n",
       "      <th>167</th>\n",
       "      <td>1</td>\n",
       "      <td>Xinil</td>\n",
       "      <td>161</td>\n",
       "      <td>Peace Maker Kurogane</td>\n",
       "      <td>8</td>\n",
       "    </tr>\n",
       "    <tr>\n",
       "      <th>168</th>\n",
       "      <td>1</td>\n",
       "      <td>Xinil</td>\n",
       "      <td>213</td>\n",
       "      <td>Pia Carrot e Youkoso!!</td>\n",
       "      <td>4</td>\n",
       "    </tr>\n",
       "    <tr>\n",
       "      <th>169</th>\n",
       "      <td>1</td>\n",
       "      <td>Xinil</td>\n",
       "      <td>214</td>\n",
       "      <td>Pia Carrot e Youkoso!! 2</td>\n",
       "      <td>3</td>\n",
       "    </tr>\n",
       "  </tbody>\n",
       "</table>\n",
       "</div>"
      ],
      "text/plain": [
       "     user_id Username  anime_id               Anime Title  rating\n",
       "0          1    Xinil        21                 One Piece       9\n",
       "166        1    Xinil       322             Paradise Kiss       8\n",
       "167        1    Xinil       161      Peace Maker Kurogane       8\n",
       "168        1    Xinil       213    Pia Carrot e Youkoso!!       4\n",
       "169        1    Xinil       214  Pia Carrot e Youkoso!! 2       3"
      ]
     },
     "execution_count": 8,
     "metadata": {},
     "output_type": "execute_result"
    }
   ],
   "source": [
    "filtered_ratings.head()"
   ]
  },
  {
   "cell_type": "code",
   "execution_count": 19,
   "id": "71e6f7f0-d99f-419b-80db-f912261c5693",
   "metadata": {},
   "outputs": [],
   "source": [
    "filtered_ratings.to_csv('../dataset/df_ratings.csv', index=False)"
   ]
  },
  {
   "cell_type": "code",
   "execution_count": null,
   "id": "92becd88-969f-4d3c-8ce7-42fa5fcd6f89",
   "metadata": {},
   "outputs": [],
   "source": []
  }
 ],
 "metadata": {
  "kernelspec": {
   "display_name": "Python 3 (ipykernel)",
   "language": "python",
   "name": "python3"
  },
  "language_info": {
   "codemirror_mode": {
    "name": "ipython",
    "version": 3
   },
   "file_extension": ".py",
   "mimetype": "text/x-python",
   "name": "python",
   "nbconvert_exporter": "python",
   "pygments_lexer": "ipython3",
   "version": "3.12.3"
  }
 },
 "nbformat": 4,
 "nbformat_minor": 5
}
